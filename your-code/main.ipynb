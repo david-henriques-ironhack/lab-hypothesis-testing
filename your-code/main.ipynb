{
 "cells": [
  {
   "cell_type": "markdown",
   "metadata": {},
   "source": [
    "# Before your start:\n",
    "- Read the README.md file\n",
    "- Comment as much as you can and use the resources (README.md file)\n",
    "- Happy learning!"
   ]
  },
  {
   "cell_type": "code",
   "execution_count": 1,
   "metadata": {},
   "outputs": [],
   "source": [
    "# import numpy and pandas\n",
    "import pandas as pd\n",
    "import numpy as np\n",
    "from scipy.stats import trim_mean, mode, skew, gaussian_kde, pearsonr, spearmanr, beta\n",
    "from statsmodels.stats.weightstats import ztest as ztest\n",
    "\n",
    "from scipy.stats import ttest_ind, norm, t\n",
    "from scipy.stats import f_oneway\n",
    "from scipy.stats import sem"
   ]
  },
  {
   "cell_type": "markdown",
   "metadata": {},
   "source": [
    "# Challenge 1\n",
    "\n",
    "This is a placeholder to make the AI corrector be able to find the correct exercise for feedback"
   ]
  },
  {
   "cell_type": "code",
   "execution_count": 12,
   "metadata": {},
   "outputs": [],
   "source": [
    "# Run this code:\n",
    "salaries = pd.read_csv('../data/Current_Employee_Names__Salaries__and_Position_Titles.csv')"
   ]
  },
  {
   "cell_type": "markdown",
   "metadata": {},
   "source": [
    "# Challenge 2 - Hypothesis Tests\n",
    "\n",
    "In this section of the lab, we will test whether the hourly wage of all hourly workers is significantly different from $30/hr. Import the correct one sample test function from scipy and perform the hypothesis test for a 95% two sided confidence interval."
   ]
  },
  {
   "cell_type": "code",
   "execution_count": 33,
   "metadata": {},
   "outputs": [
    {
     "data": {
      "text/plain": [
       "16884    45.07\n",
       "15212    32.09\n",
       "2025     46.10\n",
       "6616     35.60\n",
       "20540    36.21\n",
       "3382     17.55\n",
       "32145     2.65\n",
       "13204    36.21\n",
       "31532    21.30\n",
       "10674    37.25\n",
       "14894    35.60\n",
       "14095    35.60\n",
       "14176    34.57\n",
       "3282     13.00\n",
       "32734    14.00\n",
       "29521    13.94\n",
       "6421     47.44\n",
       "1877     19.38\n",
       "8345     35.60\n",
       "28796    21.98\n",
       "27797    19.86\n",
       "9068     35.60\n",
       "11159    15.94\n",
       "21028    40.20\n",
       "8631     36.21\n",
       "15205    48.85\n",
       "31023     2.65\n",
       "9603     16.17\n",
       "18777    32.04\n",
       "11304    46.35\n",
       "19288    46.35\n",
       "11852    35.60\n",
       "5318     18.52\n",
       "25817    17.68\n",
       "20763    35.60\n",
       "25378    36.22\n",
       "31071    28.48\n",
       "20936    47.44\n",
       "5532     17.42\n",
       "18828    14.51\n",
       "27711    35.60\n",
       "27193    45.07\n",
       "19639    32.04\n",
       "23636    36.13\n",
       "27309    40.20\n",
       "10312    46.10\n",
       "30059     8.25\n",
       "19606    35.60\n",
       "19       46.10\n",
       "27436    14.54\n",
       "Name: Hourly Rate, dtype: float64"
      ]
     },
     "execution_count": 33,
     "metadata": {},
     "output_type": "execute_result"
    }
   ],
   "source": [
    "salaries.head()\n",
    "\n",
    "sample = salaries[salaries['Hourly Rate'].notna()]['Hourly Rate'].sample(50)\n",
    "\n",
    "sample"
   ]
  },
  {
   "cell_type": "code",
   "execution_count": 34,
   "metadata": {},
   "outputs": [
    {
     "data": {
      "text/plain": [
       "TtestResult(statistic=0.1371366902480958, pvalue=0.8914846969868837, df=49)"
      ]
     },
     "execution_count": 34,
     "metadata": {},
     "output_type": "execute_result"
    }
   ],
   "source": [
    "# Your code here\n",
    "\n",
    "from scipy import stats\n",
    "\n",
    "stats.ttest_1samp(sample, 30)\n",
    "\n",
    "# with a sample size of 50 elements we cannot reject the null hypothesis this is because the p-value is greater than 0.05"
   ]
  },
  {
   "cell_type": "markdown",
   "metadata": {},
   "source": [
    "# Challenge 3\n",
    "\n",
    "This is a placeholder to make the AI corrector be able to find the correct exercise for feedback"
   ]
  },
  {
   "cell_type": "markdown",
   "metadata": {},
   "source": [
    "# Challenge 4 -  Hypothesis Tests of Proportions\n",
    "\n",
    "## This challenge is OPTIONAL\n",
    "\n",
    "Another type of one sample test is a hypothesis test of proportions. In this test, we examine whether the proportion of a group in our sample is significantly different than a fraction. \n",
    "\n",
    "You can read more about one sample proportion tests [here](http://sphweb.bumc.bu.edu/otlt/MPH-Modules/BS/SAS/SAS6-CategoricalData/SAS6-CategoricalData2.html).\n",
    "\n",
    "In the cell below, use the `proportions_ztest` function from `statsmodels` to perform a hypothesis test that will determine whether the number of hourly workers in the City of Chicago is significantly different from 25% at the 95% confidence level."
   ]
  },
  {
   "cell_type": "code",
   "execution_count": null,
   "metadata": {},
   "outputs": [],
   "source": [
    "# Your code here"
   ]
  }
 ],
 "metadata": {
  "kernelspec": {
   "display_name": "base",
   "language": "python",
   "name": "python3"
  },
  "language_info": {
   "codemirror_mode": {
    "name": "ipython",
    "version": 3
   },
   "file_extension": ".py",
   "mimetype": "text/x-python",
   "name": "python",
   "nbconvert_exporter": "python",
   "pygments_lexer": "ipython3",
   "version": "3.12.4"
  }
 },
 "nbformat": 4,
 "nbformat_minor": 2
}
