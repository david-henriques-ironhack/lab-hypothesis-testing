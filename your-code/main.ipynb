{
  "cells": [
    {
      "cell_type": "markdown",
      "metadata": {
        "id": "qKbIHIJzcK7e"
      },
      "source": [
        "# Before your start:\n",
        "- Read the README.md file\n",
        "- Comment as much as you can and use the resources (README.md file)\n",
        "- Happy learning!"
      ]
    },
    {
      "cell_type": "code",
      "execution_count": 14,
      "metadata": {
        "id": "cCZj0k7icK7f"
      },
      "outputs": [],
      "source": [
        "# import numpy and pandas\n",
        "import pandas as pd\n",
        "import numpy as np\n",
        "from scipy.stats import trim_mean, mode, skew, gaussian_kde, pearsonr, spearmanr, beta\n",
        "from statsmodels.stats.weightstats import ztest as ztest\n",
        "\n",
        "from scipy.stats import ttest_ind, norm, t\n",
        "from scipy.stats import f_oneway\n",
        "from scipy.stats import sem\n",
        "from scipy.stats import ttest_1samp"
      ]
    },
    {
      "cell_type": "markdown",
      "metadata": {
        "id": "v1dRLUHBcK7f"
      },
      "source": [
        "# Challenge 1\n",
        "\n",
        "This is a placeholder to make the AI corrector be able to find the correct exercise for feedback"
      ]
    },
    {
      "cell_type": "code",
      "execution_count": 3,
      "metadata": {
        "id": "7_HStjE0cK7g"
      },
      "outputs": [],
      "source": [
        "# Run this code:\n",
        "salaries = pd.read_csv('Current_Employee_Names__Salaries__and_Position_Titles.csv')"
      ]
    },
    {
      "cell_type": "markdown",
      "metadata": {
        "id": "nPFl_fZpcK7g"
      },
      "source": [
        "# Challenge 2 - Hypothesis Tests\n",
        "\n",
        "In this section of the lab, we will test whether the hourly wage of all hourly workers is significantly different from $30/hr. Import the correct one sample test function from scipy and perform the hypothesis test for a 95% two sided confidence interval."
      ]
    },
    {
      "cell_type": "code",
      "execution_count": 15,
      "metadata": {
        "colab": {
          "base_uri": "https://localhost:8080/"
        },
        "id": "mu1BvzvgcK7g",
        "outputId": "492c0779-02ea-494d-993e-7e7713bcde38"
      },
      "outputs": [
        {
          "output_type": "stream",
          "name": "stdout",
          "text": [
            "20.6198057854942 4.3230240486229894e-92\n"
          ]
        }
      ],
      "source": [
        "wages = salaries['Hourly Rate']\n",
        "wages_clean = wages.dropna()\n",
        "t_statistic, p_value = ttest_1samp(wages_clean, 30)\n",
        "print(t_statistic, p_value) #In this test we reject the null hyphotesis. The P-value is lower than 0.05"
      ]
    },
    {
      "cell_type": "markdown",
      "metadata": {
        "id": "knjNPHwAcK7g"
      },
      "source": [
        "# Challenge 3\n",
        "\n",
        "This is a placeholder to make the AI corrector be able to find the correct exercise for feedback"
      ]
    },
    {
      "cell_type": "markdown",
      "metadata": {
        "id": "fa2S1kYMcK7g"
      },
      "source": [
        "# Challenge 4 -  Hypothesis Tests of Proportions\n",
        "\n",
        "## This challenge is OPTIONAL\n",
        "\n",
        "Another type of one sample test is a hypothesis test of proportions. In this test, we examine whether the proportion of a group in our sample is significantly different than a fraction.\n",
        "\n",
        "You can read more about one sample proportion tests [here](http://sphweb.bumc.bu.edu/otlt/MPH-Modules/BS/SAS/SAS6-CategoricalData/SAS6-CategoricalData2.html).\n",
        "\n",
        "In the cell below, use the `proportions_ztest` function from `statsmodels` to perform a hypothesis test that will determine whether the number of hourly workers in the City of Chicago is significantly different from 25% at the 95% confidence level."
      ]
    },
    {
      "cell_type": "code",
      "execution_count": null,
      "metadata": {
        "id": "4GRn7CZYcK7g"
      },
      "outputs": [],
      "source": [
        "# Your code here"
      ]
    }
  ],
  "metadata": {
    "kernelspec": {
      "display_name": "Python 3 (ipykernel)",
      "language": "python",
      "name": "python3"
    },
    "language_info": {
      "codemirror_mode": {
        "name": "ipython",
        "version": 3
      },
      "file_extension": ".py",
      "mimetype": "text/x-python",
      "name": "python",
      "nbconvert_exporter": "python",
      "pygments_lexer": "ipython3",
      "version": "3.12.2"
    },
    "colab": {
      "provenance": []
    }
  },
  "nbformat": 4,
  "nbformat_minor": 0
}